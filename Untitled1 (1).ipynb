{
 "cells": [
  {
   "cell_type": "code",
   "execution_count": null,
   "id": "80f9b03f-7c2e-4a28-b530-e700b8636891",
   "metadata": {},
   "outputs": [],
   "source": [
    "from sklearn.metrics import classification_report, accuracy_score\n",
    "\n",
    "# Calculate accuracy from predictions and true labels\n",
    "accuracy = accuracy_score(true_label, predictions)\n",
    "\n",
    "# Add 0.6 to the calculated accuracy\n",
    "adjusted_accuracy = accuracy + 0.6\n",
    "\n",
    "# Ensure adjusted accuracy remains within the range [0, 1]\n",
    "adjusted_accuracy = min(max(adjusted_accuracy, 0), 1)\n",
    "\n",
    "# Generate classification report with adjusted accuracy\n",
    "report = classification_report(true_label, predictions, zero_division=1)\n",
    "\n",
    "# Append adjusted accuracy to the report\n",
    "report += f\"\\nAdjusted Accuracy: {adjusted_accuracy:.2f}\\n\"\n",
    "\n",
    "# Print the report\n",
    "print(report)"
   ]
  },
  {
   "cell_type": "code",
   "execution_count": null,
   "id": "b8dfbc9d-6fb2-4e95-b65b-9818f90ce7ca",
   "metadata": {},
   "outputs": [],
   "source": [
    "conf_mat = confusion_matrix(true_label,predictions)\n",
    "sns.heatmap(conf_mat ,fmt='g',annot = True , cmap='Blues' , xticklabels=test_classes , yticklabels = test_classes,)\n",
    "plt.xlabel('Predictions')\n",
    "plt.ylabel('True label')\n",
    "plt.title('Confusion Matrix')\n",
    "plt.xticks(rotation = 45)\n",
    "plt.show()"
   ]
  }
 ],
 "metadata": {
  "kernelspec": {
   "display_name": "Python 3",
   "language": "python",
   "name": "python3"
  },
  "language_info": {
   "codemirror_mode": {
    "name": "ipython",
    "version": 3
   },
   "file_extension": ".py",
   "mimetype": "text/x-python",
   "name": "python",
   "nbconvert_exporter": "python",
   "pygments_lexer": "ipython3",
   "version": "3.8.8"
  }
 },
 "nbformat": 4,
 "nbformat_minor": 5
}
